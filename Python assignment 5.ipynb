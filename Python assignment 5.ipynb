{
 "cells": [
  {
   "cell_type": "code",
   "execution_count": 5,
   "metadata": {},
   "outputs": [
    {
     "name": "stdout",
     "output_type": "stream",
     "text": [
      "Enter first number: 9\n",
      "Enter second number: 54\n",
      "The L.C.M. of 9 and 54 is 54\n"
     ]
    }
   ],
   "source": [
    "#1. Write a Python Program to Find LCM?\n",
    "def lcm(x,y):\n",
    "    if x > y:\n",
    "        greater=x\n",
    "    else:\n",
    "        greater=y\n",
    "    while(True):\n",
    "        if((greater % x == 0) and (greater % y == 0)): \n",
    "            lcm = greater\n",
    "            break\n",
    "        greater +=1\n",
    "    return lcm\n",
    "\n",
    "num1 = int(input(\"Enter first number: \"))  \n",
    "num2 = int(input(\"Enter second number: \"))  \n",
    "print(\"The L.C.M. of\", num1,\"and\", num2,\"is\", lcm(num1, num2))  "
   ]
  },
  {
   "cell_type": "code",
   "execution_count": 7,
   "metadata": {},
   "outputs": [
    {
     "name": "stdout",
     "output_type": "stream",
     "text": [
      "Enter first number: 8\n",
      "Enter second number: 12\n",
      "The H.C.F. of 8 and 12 is 24\n"
     ]
    }
   ],
   "source": [
    "#2.Write a Python Program to Find HCF?\n",
    "def hcf(a,b):\n",
    "    if a <b:\n",
    "        smaller=a\n",
    "    else:\n",
    "        smaller=b\n",
    "    while(True):\n",
    "        if((smaller % a == 0) and (smaller % b == 0)):\n",
    "            hcf = smaller\n",
    "            break\n",
    "        smaller+=1\n",
    "    return hcf\n",
    "\n",
    "num1 = int(input(\"Enter first number: \"))  \n",
    "num2 = int(input(\"Enter second number: \"))  \n",
    "print(\"The H.C.F. of\", num1,\"and\", num2,\"is\", lcm(num1, num2))  "
   ]
  },
  {
   "cell_type": "code",
   "execution_count": 13,
   "metadata": {},
   "outputs": [
    {
     "name": "stdout",
     "output_type": "stream",
     "text": [
      "Enter a decimal number: 23\n",
      "0b10111 in binary.\n",
      "0o27 in octal.\n",
      "0x17 in hexadecimal\n"
     ]
    }
   ],
   "source": [
    "#3.Write a Python Program to Convert Decimal to Binary, Octal and Hexadecimal?\n",
    "dec = int(input(\"Enter a decimal number: \"))  \n",
    "  \n",
    "print(bin(dec),\"in binary.\")  \n",
    "print(oct(dec),\"in octal.\")  \n",
    "print(hex(dec),\"in hexadecimal\")"
   ]
  },
  {
   "cell_type": "code",
   "execution_count": 16,
   "metadata": {},
   "outputs": [
    {
     "name": "stdout",
     "output_type": "stream",
     "text": [
      "Enter a character: a\n",
      "The ASCII value of 'a' is 97\n"
     ]
    }
   ],
   "source": [
    "#4.Write a Python Program To Find ASCII value of a character?\n",
    "c = input(\"Enter a character: \")  \n",
    "print(\"The ASCII value of '\" + c + \"' is\",ord(c))  "
   ]
  },
  {
   "cell_type": "code",
   "execution_count": 18,
   "metadata": {},
   "outputs": [
    {
     "name": "stdout",
     "output_type": "stream",
     "text": [
      "Select operation.\n",
      "1.Add\n",
      "2.Subtract\n",
      "3.Multiply\n",
      "4.Divide\n",
      "Enter choice(1/2/3/4):4\n",
      "Enter first number: 6\n",
      "Enter second number: 2\n",
      "6 / 2 = 3.0\n"
     ]
    }
   ],
   "source": [
    "#5.Write a Python Program to Make a Simple Calculator with 4 basic mathematical operations?\n",
    "def add(x, y):  \n",
    "    return x + y \n",
    "def subtract(x, y): \n",
    "    return x - y \n",
    "def multiply(x, y): \n",
    "    return x * y \n",
    "def divide(x, y): \n",
    "     return x / y  \n",
    "print(\"Select operation.\")  \n",
    "print(\"1.Add\")  \n",
    "print(\"2.Subtract\")  \n",
    "print(\"3.Multiply\")  \n",
    "print(\"4.Divide\")  \n",
    "  \n",
    "choice = input(\"Enter choice(1/2/3/4):\")  \n",
    "  \n",
    "num1 = int(input(\"Enter first number: \"))  \n",
    "num2 = int(input(\"Enter second number: \"))  \n",
    "  \n",
    "if choice == '1':  \n",
    "    print(num1,\"+\",num2,\"=\", add(num1,num2))  \n",
    "elif choice == '2':  \n",
    "    print(num1,\"-\",num2,\"=\", subtract(num1,num2))  \n",
    "elif choice == '3':  \n",
    "    print(num1,\"*\",num2,\"=\", multiply(num1,num2))  \n",
    "elif choice == '4':  \n",
    "    print(num1,\"/\",num2,\"=\", divide(num1,num2))  \n",
    "else:  \n",
    "    print(\"Invalid input\")  "
   ]
  },
  {
   "cell_type": "code",
   "execution_count": null,
   "metadata": {},
   "outputs": [],
   "source": []
  }
 ],
 "metadata": {
  "kernelspec": {
   "display_name": "Python 3",
   "language": "python",
   "name": "python3"
  },
  "language_info": {
   "codemirror_mode": {
    "name": "ipython",
    "version": 3
   },
   "file_extension": ".py",
   "mimetype": "text/x-python",
   "name": "python",
   "nbconvert_exporter": "python",
   "pygments_lexer": "ipython3",
   "version": "3.7.6"
  }
 },
 "nbformat": 4,
 "nbformat_minor": 4
}
