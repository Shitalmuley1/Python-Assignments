{
 "cells": [
  {
   "cell_type": "code",
   "execution_count": 6,
   "metadata": {},
   "outputs": [
    {
     "name": "stdout",
     "output_type": "stream",
     "text": [
      "Enter value in kilometer: 3.5\n",
      "3.50 kilometers is equal to 2.17 miles\n"
     ]
    }
   ],
   "source": [
    "#1. Write a Python program to convert kilometers to miles?\n",
    "#---------------------------------------------------------#\n",
    "#Take KM input from user\n",
    "km=float(input(\"Enter value in kilometer: \"))\n",
    "temp=0.621371\n",
    "miles= km * temp\n",
    "print ('%0.2f kilometers is equal to %0.2f miles' %(km,miles))"
   ]
  },
  {
   "cell_type": "code",
   "execution_count": 8,
   "metadata": {},
   "outputs": [
    {
     "name": "stdout",
     "output_type": "stream",
     "text": [
      "Enter value in celsius: 39\n",
      "39.0 Celsius is equal to 102.2 Fahrenheit\n"
     ]
    }
   ],
   "source": [
    "#2.Write a Python program to convert Celsius to Fahrenheit?\n",
    "#----------------------------------------------------------#\n",
    "#Take Celsius from user\n",
    "Celsius = float(input(\"Enter value in celsius: \"))\n",
    "Fahrenheit = (Celsius * 1.8) + 32\n",
    "print(\"%0.1f Celsius is equal to %0.1f Fahrenheit\" %(Celsius,Fahrenheit))"
   ]
  },
  {
   "cell_type": "code",
   "execution_count": 10,
   "metadata": {},
   "outputs": [
    {
     "name": "stdout",
     "output_type": "stream",
     "text": [
      "Enter year : 1990\n",
      "Enter month: 07\n",
      "     July 1990\n",
      "Mo Tu We Th Fr Sa Su\n",
      "                   1\n",
      " 2  3  4  5  6  7  8\n",
      " 9 10 11 12 13 14 15\n",
      "16 17 18 19 20 21 22\n",
      "23 24 25 26 27 28 29\n",
      "30 31\n",
      "\n"
     ]
    }
   ],
   "source": [
    "#Write a Python program to display calendar?\n",
    "#------------------------------------------------------#\n",
    "import calendar\n",
    "#take input from user for year and month\n",
    "yy=int(input('Enter year : '))\n",
    "mm=int(input('Enter month: '))\n",
    "print (calendar.month(yy,mm))"
   ]
  },
  {
   "cell_type": "code",
   "execution_count": 12,
   "metadata": {},
   "outputs": [
    {
     "name": "stdout",
     "output_type": "stream",
     "text": [
      "Enter a: 2\n",
      "Enter b: 3\n",
      "Enter c: 4\n",
      "The solution are (-0.75-1.1989578808281798j) and (-0.75+1.1989578808281798j)\n"
     ]
    }
   ],
   "source": [
    "#4.Write a Python program to solve quadratic equation?\n",
    "#-----------------------------------------------------#\n",
    "import cmath  \n",
    "a = float(input('Enter a: '))  \n",
    "b = float(input('Enter b: '))  \n",
    "c = float(input('Enter c: '))  \n",
    "  \n",
    "# calculate the discriminant  \n",
    "d = (b**2) - (4*a*c)  \n",
    "  \n",
    "# find two solutions  \n",
    "sol1 = (-b-cmath.sqrt(d))/(2*a)  \n",
    "sol2 = (-b+cmath.sqrt(d))/(2*a)  \n",
    "print('The solution are {0} and {1}'.format(sol1,sol2))   "
   ]
  },
  {
   "cell_type": "code",
   "execution_count": 18,
   "metadata": {},
   "outputs": [
    {
     "name": "stdout",
     "output_type": "stream",
     "text": [
      "Enter first number: 12\n",
      "Enter second number: 34\n",
      "Values of Num1 and Num2 before Swap is:  12 and 34\n",
      "Values of Num1 and Num2 afrer Swap is:  34 and 12\n"
     ]
    }
   ],
   "source": [
    "#5. Write a Python program to swap two variables without temp variable?\n",
    "#----------------------------------------------------------------------#\n",
    "num1 = int(input(\"Enter first number: \"))\n",
    "num2 = int(input(\"Enter second number: \"))\n",
    "print(\"Values of Num1 and Num2 before Swap is: \", num1 ,\"and\" ,num2)\n",
    "num1,num2 = num2, num1\n",
    "\n",
    "print(\"Values of Num1 and Num2 afrer Swap is: \", num1 ,\"and\" ,num2)"
   ]
  },
  {
   "cell_type": "code",
   "execution_count": null,
   "metadata": {},
   "outputs": [],
   "source": []
  }
 ],
 "metadata": {
  "kernelspec": {
   "display_name": "Python 3",
   "language": "python",
   "name": "python3"
  },
  "language_info": {
   "codemirror_mode": {
    "name": "ipython",
    "version": 3
   },
   "file_extension": ".py",
   "mimetype": "text/x-python",
   "name": "python",
   "nbconvert_exporter": "python",
   "pygments_lexer": "ipython3",
   "version": "3.7.6"
  }
 },
 "nbformat": 4,
 "nbformat_minor": 4
}
